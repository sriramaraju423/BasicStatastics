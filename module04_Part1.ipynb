{
 "cells": [
  {
   "cell_type": "markdown",
   "metadata": {},
   "source": [
    "#### Part 1 - Q1"
   ]
  },
  {
   "cell_type": "code",
   "execution_count": 16,
   "metadata": {},
   "outputs": [
    {
     "data": {
      "text/html": [
       "<div>\n",
       "<style scoped>\n",
       "    .dataframe tbody tr th:only-of-type {\n",
       "        vertical-align: middle;\n",
       "    }\n",
       "\n",
       "    .dataframe tbody tr th {\n",
       "        vertical-align: top;\n",
       "    }\n",
       "\n",
       "    .dataframe thead th {\n",
       "        text-align: right;\n",
       "    }\n",
       "</style>\n",
       "<table border=\"1\" class=\"dataframe\">\n",
       "  <thead>\n",
       "    <tr style=\"text-align: right;\">\n",
       "      <th></th>\n",
       "      <th>Waist</th>\n",
       "      <th>AT</th>\n",
       "    </tr>\n",
       "  </thead>\n",
       "  <tbody>\n",
       "    <tr>\n",
       "      <td>0</td>\n",
       "      <td>74.75</td>\n",
       "      <td>25.72</td>\n",
       "    </tr>\n",
       "    <tr>\n",
       "      <td>1</td>\n",
       "      <td>72.60</td>\n",
       "      <td>25.89</td>\n",
       "    </tr>\n",
       "    <tr>\n",
       "      <td>2</td>\n",
       "      <td>81.80</td>\n",
       "      <td>42.60</td>\n",
       "    </tr>\n",
       "    <tr>\n",
       "      <td>3</td>\n",
       "      <td>83.95</td>\n",
       "      <td>42.80</td>\n",
       "    </tr>\n",
       "    <tr>\n",
       "      <td>4</td>\n",
       "      <td>74.65</td>\n",
       "      <td>29.84</td>\n",
       "    </tr>\n",
       "  </tbody>\n",
       "</table>\n",
       "</div>"
      ],
      "text/plain": [
       "   Waist     AT\n",
       "0  74.75  25.72\n",
       "1  72.60  25.89\n",
       "2  81.80  42.60\n",
       "3  83.95  42.80\n",
       "4  74.65  29.84"
      ]
     },
     "execution_count": 16,
     "metadata": {},
     "output_type": "execute_result"
    }
   ],
   "source": [
    "import pandas as pd\n",
    "Cars = pd.read_csv(r\"C:\\Users\\srira\\Desktop\\Ram\\Data science\\Course - Assignments\\Module 4 - Probability Distributions, CLT, Confidence Interval\\Cars.csv\")\n",
    "Cars.head()\n",
    "Wc_at = pd.read_csv(r\"C:\\Users\\srira\\Desktop\\Ram\\Data science\\Course - Assignments\\Module 4 - Probability Distributions, CLT, Confidence Interval\\wc-at.csv\")\n",
    "Wc_at.head()"
   ]
  },
  {
   "cell_type": "code",
   "execution_count": 4,
   "metadata": {},
   "outputs": [
    {
     "data": {
      "text/html": [
       "<div>\n",
       "<style scoped>\n",
       "    .dataframe tbody tr th:only-of-type {\n",
       "        vertical-align: middle;\n",
       "    }\n",
       "\n",
       "    .dataframe tbody tr th {\n",
       "        vertical-align: top;\n",
       "    }\n",
       "\n",
       "    .dataframe thead th {\n",
       "        text-align: right;\n",
       "    }\n",
       "</style>\n",
       "<table border=\"1\" class=\"dataframe\">\n",
       "  <thead>\n",
       "    <tr style=\"text-align: right;\">\n",
       "      <th></th>\n",
       "      <th>HP</th>\n",
       "      <th>MPG</th>\n",
       "      <th>VOL</th>\n",
       "      <th>SP</th>\n",
       "      <th>WT</th>\n",
       "    </tr>\n",
       "  </thead>\n",
       "  <tbody>\n",
       "    <tr>\n",
       "      <td>count</td>\n",
       "      <td>81.000000</td>\n",
       "      <td>81.000000</td>\n",
       "      <td>81.000000</td>\n",
       "      <td>81.000000</td>\n",
       "      <td>81.000000</td>\n",
       "    </tr>\n",
       "    <tr>\n",
       "      <td>mean</td>\n",
       "      <td>117.469136</td>\n",
       "      <td>34.422076</td>\n",
       "      <td>98.765432</td>\n",
       "      <td>121.540272</td>\n",
       "      <td>32.412577</td>\n",
       "    </tr>\n",
       "    <tr>\n",
       "      <td>std</td>\n",
       "      <td>57.113502</td>\n",
       "      <td>9.131445</td>\n",
       "      <td>22.301497</td>\n",
       "      <td>14.181432</td>\n",
       "      <td>7.492813</td>\n",
       "    </tr>\n",
       "    <tr>\n",
       "      <td>min</td>\n",
       "      <td>49.000000</td>\n",
       "      <td>12.101263</td>\n",
       "      <td>50.000000</td>\n",
       "      <td>99.564907</td>\n",
       "      <td>15.712859</td>\n",
       "    </tr>\n",
       "    <tr>\n",
       "      <td>25%</td>\n",
       "      <td>84.000000</td>\n",
       "      <td>27.856252</td>\n",
       "      <td>89.000000</td>\n",
       "      <td>113.829145</td>\n",
       "      <td>29.591768</td>\n",
       "    </tr>\n",
       "    <tr>\n",
       "      <td>50%</td>\n",
       "      <td>100.000000</td>\n",
       "      <td>35.152727</td>\n",
       "      <td>101.000000</td>\n",
       "      <td>118.208698</td>\n",
       "      <td>32.734518</td>\n",
       "    </tr>\n",
       "    <tr>\n",
       "      <td>75%</td>\n",
       "      <td>140.000000</td>\n",
       "      <td>39.531633</td>\n",
       "      <td>113.000000</td>\n",
       "      <td>126.404312</td>\n",
       "      <td>37.392524</td>\n",
       "    </tr>\n",
       "    <tr>\n",
       "      <td>max</td>\n",
       "      <td>322.000000</td>\n",
       "      <td>53.700681</td>\n",
       "      <td>160.000000</td>\n",
       "      <td>169.598513</td>\n",
       "      <td>52.997752</td>\n",
       "    </tr>\n",
       "  </tbody>\n",
       "</table>\n",
       "</div>"
      ],
      "text/plain": [
       "               HP        MPG         VOL          SP         WT\n",
       "count   81.000000  81.000000   81.000000   81.000000  81.000000\n",
       "mean   117.469136  34.422076   98.765432  121.540272  32.412577\n",
       "std     57.113502   9.131445   22.301497   14.181432   7.492813\n",
       "min     49.000000  12.101263   50.000000   99.564907  15.712859\n",
       "25%     84.000000  27.856252   89.000000  113.829145  29.591768\n",
       "50%    100.000000  35.152727  101.000000  118.208698  32.734518\n",
       "75%    140.000000  39.531633  113.000000  126.404312  37.392524\n",
       "max    322.000000  53.700681  160.000000  169.598513  52.997752"
      ]
     },
     "execution_count": 4,
     "metadata": {},
     "output_type": "execute_result"
    }
   ],
   "source": [
    "Cars.describe()"
   ]
  },
  {
   "cell_type": "code",
   "execution_count": 18,
   "metadata": {},
   "outputs": [
    {
     "data": {
      "text/html": [
       "<div>\n",
       "<style scoped>\n",
       "    .dataframe tbody tr th:only-of-type {\n",
       "        vertical-align: middle;\n",
       "    }\n",
       "\n",
       "    .dataframe tbody tr th {\n",
       "        vertical-align: top;\n",
       "    }\n",
       "\n",
       "    .dataframe thead th {\n",
       "        text-align: right;\n",
       "    }\n",
       "</style>\n",
       "<table border=\"1\" class=\"dataframe\">\n",
       "  <thead>\n",
       "    <tr style=\"text-align: right;\">\n",
       "      <th></th>\n",
       "      <th>Waist</th>\n",
       "      <th>AT</th>\n",
       "    </tr>\n",
       "  </thead>\n",
       "  <tbody>\n",
       "    <tr>\n",
       "      <td>count</td>\n",
       "      <td>109.000000</td>\n",
       "      <td>109.000000</td>\n",
       "    </tr>\n",
       "    <tr>\n",
       "      <td>mean</td>\n",
       "      <td>91.901835</td>\n",
       "      <td>101.894037</td>\n",
       "    </tr>\n",
       "    <tr>\n",
       "      <td>std</td>\n",
       "      <td>13.559116</td>\n",
       "      <td>57.294763</td>\n",
       "    </tr>\n",
       "    <tr>\n",
       "      <td>min</td>\n",
       "      <td>63.500000</td>\n",
       "      <td>11.440000</td>\n",
       "    </tr>\n",
       "    <tr>\n",
       "      <td>25%</td>\n",
       "      <td>80.000000</td>\n",
       "      <td>50.880000</td>\n",
       "    </tr>\n",
       "    <tr>\n",
       "      <td>50%</td>\n",
       "      <td>90.800000</td>\n",
       "      <td>96.540000</td>\n",
       "    </tr>\n",
       "    <tr>\n",
       "      <td>75%</td>\n",
       "      <td>104.000000</td>\n",
       "      <td>137.000000</td>\n",
       "    </tr>\n",
       "    <tr>\n",
       "      <td>max</td>\n",
       "      <td>121.000000</td>\n",
       "      <td>253.000000</td>\n",
       "    </tr>\n",
       "  </tbody>\n",
       "</table>\n",
       "</div>"
      ],
      "text/plain": [
       "            Waist          AT\n",
       "count  109.000000  109.000000\n",
       "mean    91.901835  101.894037\n",
       "std     13.559116   57.294763\n",
       "min     63.500000   11.440000\n",
       "25%     80.000000   50.880000\n",
       "50%     90.800000   96.540000\n",
       "75%    104.000000  137.000000\n",
       "max    121.000000  253.000000"
      ]
     },
     "execution_count": 18,
     "metadata": {},
     "output_type": "execute_result"
    }
   ],
   "source": [
    "Wc_at.describe()"
   ]
  },
  {
   "cell_type": "code",
   "execution_count": 5,
   "metadata": {},
   "outputs": [
    {
     "data": {
      "text/plain": [
       "0     53.700681\n",
       "1     50.013401\n",
       "2     50.013401\n",
       "3     45.696322\n",
       "4     50.504232\n",
       "        ...    \n",
       "76    36.900000\n",
       "77    19.197888\n",
       "78    34.000000\n",
       "79    19.833733\n",
       "80    12.101263\n",
       "Name: MPG, Length: 81, dtype: float64"
      ]
     },
     "execution_count": 5,
     "metadata": {},
     "output_type": "execute_result"
    }
   ],
   "source": [
    "Cars.MPG"
   ]
  },
  {
   "cell_type": "code",
   "execution_count": 8,
   "metadata": {},
   "outputs": [
    {
     "data": {
      "text/plain": [
       "(array([ 1.,  6., 10.,  4., 10., 15., 17.,  8.,  5.,  5.]),\n",
       " array([12.10126289, 16.26120474, 20.42114659, 24.58108844, 28.74103029,\n",
       "        32.90097213, 37.06091398, 41.22085583, 45.38079768, 49.54073953,\n",
       "        53.70068138]),\n",
       " <a list of 10 Patch objects>)"
      ]
     },
     "execution_count": 8,
     "metadata": {},
     "output_type": "execute_result"
    },
    {
     "data": {
      "image/png": "[encoded data removed]",
      "text/plain": [
       "<Figure size 432x288 with 1 Axes>"
      ]
     },
     "metadata": {
      "needs_background": "light"
     },
     "output_type": "display_data"
    }
   ],
   "source": [
    "from matplotlib import pyplot as plt\n",
    "plt.hist(Cars.MPG)"
   ]
  },
  {
   "cell_type": "code",
   "execution_count": 19,
   "metadata": {},
   "outputs": [
    {
     "data": {
      "text/plain": [
       "(array([ 2.,  9., 19., 17., 11.,  9., 13., 21.,  5.,  3.]),\n",
       " array([ 63.5 ,  69.25,  75.  ,  80.75,  86.5 ,  92.25,  98.  , 103.75,\n",
       "        109.5 , 115.25, 121.  ]),\n",
       " <a list of 10 Patch objects>)"
      ]
     },
     "execution_count": 19,
     "metadata": {},
     "output_type": "execute_result"
    },
    {
     "data": {
      "image/png": "[encoded data removed]",
      "text/plain": [
       "<Figure size 432x288 with 1 Axes>"
      ]
     },
     "metadata": {
      "needs_background": "light"
     },
     "output_type": "display_data"
    }
   ],
   "source": [
    "plt.hist(Wc_at.Waist)"
   ]
  },
  {
   "cell_type": "code",
   "execution_count": 9,
   "metadata": {},
   "outputs": [
    {
     "data": {
      "text/plain": [
       "-0.17463433818755686"
      ]
     },
     "execution_count": 9,
     "metadata": {},
     "output_type": "execute_result"
    }
   ],
   "source": [
    "import scipy.stats as st\n",
    "st.skew(Cars.MPG, axis=0, bias=True)"
   ]
  },
  {
   "cell_type": "code",
   "execution_count": 20,
   "metadata": {},
   "outputs": [
    {
     "data": {
      "text/plain": [
       "0.1322041763592883"
      ]
     },
     "execution_count": 20,
     "metadata": {},
     "output_type": "execute_result"
    }
   ],
   "source": [
    "st.skew(Wc_at.Waist, axis=0, bias=True)"
   ]
  },
  {
   "cell_type": "code",
   "execution_count": 10,
   "metadata": {},
   "outputs": [
    {
     "data": {
      "text/plain": [
       "((array([-2.38580629, -2.03993451, -1.8388487 , -1.69267138, -1.57568407,\n",
       "         -1.47698662, -1.3908866 , -1.31401722, -1.24421348, -1.17999652,\n",
       "         -1.1203088 , -1.06436632, -1.01157066, -0.96145394, -0.91364281,\n",
       "         -0.8678341 , -0.82377792, -0.78126552, -0.7401204 , -0.7001918 ,\n",
       "         -0.66134962, -0.62348064, -0.58648548, -0.55027625, -0.51477465,\n",
       "         -0.47991041, -0.4456201 , -0.41184603, -0.37853543, -0.34563975,\n",
       "         -0.31311399, -0.28091622, -0.24900715, -0.21734968, -0.1859086 ,\n",
       "         -0.15465028, -0.12354237, -0.09255359, -0.06165345, -0.03081208,\n",
       "          0.        ,  0.03081208,  0.06165345,  0.09255359,  0.12354237,\n",
       "          0.15465028,  0.1859086 ,  0.21734968,  0.24900715,  0.28091622,\n",
       "          0.31311399,  0.34563975,  0.37853543,  0.41184603,  0.4456201 ,\n",
       "          0.47991041,  0.51477465,  0.55027625,  0.58648548,  0.62348064,\n",
       "          0.66134962,  0.7001918 ,  0.7401204 ,  0.78126552,  0.82377792,\n",
       "          0.8678341 ,  0.91364281,  0.96145394,  1.01157066,  1.06436632,\n",
       "          1.1203088 ,  1.17999652,  1.24421348,  1.31401722,  1.3908866 ,\n",
       "          1.47698662,  1.57568407,  1.69267138,  1.8388487 ,  2.03993451,\n",
       "          2.38580629]),\n",
       "  array([12.10126289, 18.76283667, 19.08634055, 19.08634055, 19.1978876 ,\n",
       "         19.67850666, 19.83373318, 21.27370792, 23.10317168, 23.10317168,\n",
       "         23.10317168, 23.203569  , 23.203569  , 23.51591693, 23.51591693,\n",
       "         23.60515831, 24.48736667, 24.60913156, 26.85227868, 27.35426531,\n",
       "         27.85625194, 28.8602252 , 29.62993595, 29.62993595, 29.62993595,\n",
       "         29.62993595, 29.62993595, 30.13192258, 31.01413094, 31.01413094,\n",
       "         31.11358394, 34.        , 34.07066829, 34.07066829, 34.07066829,\n",
       "         34.56149897, 34.56149897, 35.05232964, 35.15272697, 35.15272697,\n",
       "         35.15272697, 35.40419245, 35.64355765, 36.28545648, 36.28545648,\n",
       "         36.9       , 37.95874317, 37.95874317, 38.31060597, 38.31060597,\n",
       "         38.4110033 , 38.4110033 , 38.4110033 , 38.4110033 , 38.90183397,\n",
       "         39.3540941 , 39.3540941 , 39.3540941 , 39.4312352 , 39.4312352 ,\n",
       "         39.53163253, 40.05      , 40.47472334, 42.29907817, 42.78990885,\n",
       "         42.78990885, 42.8284794 , 43.4694339 , 44.65283424, 44.65283424,\n",
       "         44.65283424, 45.69632238, 45.69632238, 45.73489292, 46.71655428,\n",
       "         46.71655428, 50.01340115, 50.01340115, 50.01340115, 50.50423183,\n",
       "         53.70068138])),\n",
       " (9.210684081729632, 34.42207572802469, 0.9907246024701211))"
      ]
     },
     "execution_count": 10,
     "metadata": {},
     "output_type": "execute_result"
    },
    {
     "data": {
      "image/png": "[encoded data removed]",
      "text/plain": [
       "<Figure size 432x288 with 1 Axes>"
      ]
     },
     "metadata": {
      "needs_background": "light"
     },
     "output_type": "display_data"
    }
   ],
   "source": [
    "#QQ plot\n",
    "import pylab\n",
    "st.probplot(Cars.MPG, dist=\"norm\", plot = pylab)"
   ]
  },
  {
   "cell_type": "code",
   "execution_count": 21,
   "metadata": {},
   "outputs": [
    {
     "data": {
      "text/plain": [
       "((array([-2.49269012, -2.16005351, -1.96810538, -1.829376  , -1.71891041,\n",
       "         -1.62614848, -1.54558238, -1.4739582 , -1.40918581, -1.34983904,\n",
       "         -1.2948992 , -1.24361202, -1.19540258, -1.14982207, -1.10651298,\n",
       "         -1.06518563, -1.02560179, -0.98756301, -0.95090206, -0.9154766 ,\n",
       "         -0.88116436, -0.84785944, -0.81546946, -0.78391323, -0.75311899,\n",
       "         -0.72302293, -0.69356797, -0.66470285, -0.63638125, -0.60856118,\n",
       "         -0.58120436, -0.55427579, -0.52774332, -0.5015773 , -0.47575031,\n",
       "         -0.45023686, -0.42501321, -0.40005714, -0.3753478 , -0.35086557,\n",
       "         -0.32659187, -0.30250912, -0.27860058, -0.25485026, -0.23124286,\n",
       "         -0.20776364, -0.18439842, -0.16113345, -0.13795538, -0.1148512 ,\n",
       "         -0.09180817, -0.06881379, -0.04585574, -0.02292185,  0.        ,\n",
       "          0.02292185,  0.04585574,  0.06881379,  0.09180817,  0.1148512 ,\n",
       "          0.13795538,  0.16113345,  0.18439842,  0.20776364,  0.23124286,\n",
       "          0.25485026,  0.27860058,  0.30250912,  0.32659187,  0.35086557,\n",
       "          0.3753478 ,  0.40005714,  0.42501321,  0.45023686,  0.47575031,\n",
       "          0.5015773 ,  0.52774332,  0.55427579,  0.58120436,  0.60856118,\n",
       "          0.63638125,  0.66470285,  0.69356797,  0.72302293,  0.75311899,\n",
       "          0.78391323,  0.81546946,  0.84785944,  0.88116436,  0.9154766 ,\n",
       "          0.95090206,  0.98756301,  1.02560179,  1.06518563,  1.10651298,\n",
       "          1.14982207,  1.19540258,  1.24361202,  1.2948992 ,  1.34983904,\n",
       "          1.40918581,  1.4739582 ,  1.54558238,  1.62614848,  1.71891041,\n",
       "          1.829376  ,  1.96810538,  2.16005351,  2.49269012]),\n",
       "  array([ 63.5 ,  68.85,  71.85,  71.9 ,  72.6 ,  73.1 ,  73.2 ,  73.8 ,\n",
       "          74.15,  74.65,  74.75,  75.  ,  75.5 ,  75.9 ,  75.95,  76.  ,\n",
       "          76.85,  77.  ,  77.6 ,  78.4 ,  78.6 ,  79.  ,  79.  ,  79.3 ,\n",
       "          79.7 ,  79.8 ,  79.9 ,  80.  ,  80.5 ,  80.5 ,  80.9 ,  80.9 ,\n",
       "          81.8 ,  82.  ,  82.5 ,  83.  ,  83.4 ,  83.5 ,  83.5 ,  83.7 ,\n",
       "          83.8 ,  83.95,  84.9 ,  85.2 ,  85.5 ,  86.  ,  86.3 ,  86.5 ,\n",
       "          86.6 ,  87.8 ,  88.1 ,  89.2 ,  89.4 ,  89.8 ,  90.8 ,  91.  ,\n",
       "          91.  ,  92.  ,  93.3 ,  94.3 ,  94.5 ,  94.5 ,  94.5 ,  96.5 ,\n",
       "          97.  ,  97.  ,  97.5 ,  98.  ,  99.  , 100.  , 100.  , 100.1 ,\n",
       "         101.  , 101.  , 101.8 , 102.  , 102.5 , 103.  , 103.  , 103.5 ,\n",
       "         104.  , 104.  , 105.  , 105.  , 105.5 , 105.5 , 106.  , 106.  ,\n",
       "         106.  , 107.  , 107.  , 107.1 , 107.9 , 108.  , 108.3 , 108.5 ,\n",
       "         108.5 , 108.5 , 109.  , 109.  , 109.1 , 110.  , 110.  , 111.  ,\n",
       "         112.  , 115.  , 119.6 , 119.9 , 121.  ])),\n",
       " (13.48006696984555, 91.90183486238531, 0.9801498449999989))"
      ]
     },
     "execution_count": 21,
     "metadata": {},
     "output_type": "execute_result"
    },
    {
     "data": {
      "image/png": "[encoded data removed]",
      "text/plain": [
       "<Figure size 432x288 with 1 Axes>"
      ]
     },
     "metadata": {
      "needs_background": "light"
     },
     "output_type": "display_data"
    }
   ],
   "source": [
    "st.probplot(Wc_at.Waist, dist=\"norm\", plot = pylab)"
   ]
  }
 ],
 "metadata": {
  "kernelspec": {
   "display_name": "Python 3",
   "language": "python",
   "name": "python3"
  },
  "language_info": {
   "codemirror_mode": {
    "name": "ipython",
    "version": 3
   },
   "file_extension": ".py",
   "mimetype": "text/x-python",
   "name": "python",
   "nbconvert_exporter": "python",
   "pygments_lexer": "ipython3",
   "version": "3.7.4"
  }
 },
 "nbformat": 4,
 "nbformat_minor": 2
}
